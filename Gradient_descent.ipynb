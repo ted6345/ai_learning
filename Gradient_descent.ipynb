{
  "nbformat": 4,
  "nbformat_minor": 0,
  "metadata": {
    "colab": {
      "name": "Gradient_descent.ipynb",
      "private_outputs": true,
      "provenance": [],
      "collapsed_sections": [],
      "mount_file_id": "1ZB7xsw0wJlXvE1gIBxCepszUcwawHCo6",
      "authorship_tag": "ABX9TyOBeeuekCuSLnR8Ut/J9x2/",
      "include_colab_link": true
    },
    "kernelspec": {
      "name": "python3",
      "display_name": "Python 3"
    },
    "accelerator": "GPU"
  },
  "cells": [
    {
      "cell_type": "markdown",
      "metadata": {
        "id": "view-in-github",
        "colab_type": "text"
      },
      "source": [
        "<a href=\"https://colab.research.google.com/github/ted6345/ai_learning/blob/master/Gradient_descent.ipynb\" target=\"_parent\"><img src=\"https://colab.research.google.com/assets/colab-badge.svg\" alt=\"Open In Colab\"/></a>"
      ]
    },
    {
      "cell_type": "markdown",
      "metadata": {
        "id": "eJIWH7dkkVbq"
      },
      "source": [
        "# Gradient descent"
      ]
    },
    {
      "cell_type": "code",
      "metadata": {
        "id": "FmkFWLvFkUA8"
      },
      "source": [
        "import warnings\r\n",
        "warnings.filterwarnings('ignore')"
      ],
      "execution_count": null,
      "outputs": []
    },
    {
      "cell_type": "markdown",
      "metadata": {
        "id": "GzbGZuAgkqvD"
      },
      "source": [
        "# I.Machine 정의\r\n",
        "\r\n",
        "\r\n",
        "*   numpy Package\r\n",
        "*   def Machine()\r\n",
        "*   x,w,b 객체지정\r\n",
        "*   Machine() 테스트\r\n",
        "\r\n",
        "\r\n",
        "\r\n"
      ]
    },
    {
      "cell_type": "code",
      "metadata": {
        "id": "K9l1j_Ehk_AL"
      },
      "source": [
        "import numpy as np\r\n",
        "\r\n",
        "def Machine(x,w,b):\r\n",
        "    y = (w*x) +b\r\n",
        "    return y\r\n",
        "\r\n",
        "\r\n"
      ],
      "execution_count": null,
      "outputs": []
    },
    {
      "cell_type": "code",
      "metadata": {
        "id": "B37avFOpmEh9"
      },
      "source": [
        "x = np.array([1,3,5,7,9])\r\n",
        "w=2\r\n",
        "b=1"
      ],
      "execution_count": null,
      "outputs": []
    },
    {
      "cell_type": "code",
      "metadata": {
        "id": "zgJerN-NkvRf"
      },
      "source": [
        "Machine(x,w,b)"
      ],
      "execution_count": null,
      "outputs": []
    },
    {
      "cell_type": "markdown",
      "metadata": {
        "id": "eqyGXpu6nTtN"
      },
      "source": [
        "# II.Gradient() 정의\r\n",
        "\r\n",
        "*   def gradient()\r\n",
        "*   gradient() 테스트\r\n",
        "\r\n"
      ]
    },
    {
      "cell_type": "code",
      "metadata": {
        "id": "Nfqo2X85oOqL"
      },
      "source": [
        "def Gradient(x,y,w,b):\r\n",
        "    yhat = Machine(x,w,b)\r\n",
        "    \r\n",
        "    dw = np.mean((y-yhat)*(-2*x))\r\n",
        "    db = np.mean((y-yhat)*-2)\r\n",
        "    return dw,db"
      ],
      "execution_count": null,
      "outputs": []
    },
    {
      "cell_type": "code",
      "metadata": {
        "id": "-_fphB-noh7y"
      },
      "source": [
        "y = np.array([2,4,6,8,10])\r\n",
        "dw, db = Gradient(x,y,w,b)\r\n",
        "print(dw,db)"
      ],
      "execution_count": null,
      "outputs": []
    },
    {
      "cell_type": "markdown",
      "metadata": {
        "id": "sWY-9XZan1-A"
      },
      "source": [
        "#III.Learning()정의\r\n",
        "\r\n",
        "*   def learning()\r\n",
        "*   learning()테스트\r\n"
      ]
    },
    {
      "cell_type": "code",
      "metadata": {
        "id": "f_V-WskOo9pl"
      },
      "source": [
        "def Learning(x,y,w,b,step):\r\n",
        "    dw,db = Gradient(x,y,w,b)\r\n",
        "    uw = w - step *dw\r\n",
        "    ub = b - step *db\r\n",
        "    \r\n",
        "    return uw,ub"
      ],
      "execution_count": null,
      "outputs": []
    },
    {
      "cell_type": "code",
      "metadata": {
        "id": "ApD1wCjvpOjy"
      },
      "source": [
        "step = 0.05\r\n",
        "uw,ub = Learning(x,y,w,b,step)\r\n",
        "print('%.3f' %uw,'%3.f' %ub)"
      ],
      "execution_count": null,
      "outputs": []
    },
    {
      "cell_type": "markdown",
      "metadata": {
        "id": "2gglTqbQn5hR"
      },
      "source": [
        "# IV.testData.csv 적용"
      ]
    },
    {
      "cell_type": "code",
      "metadata": {
        "id": "DvcfyymgqK4V"
      },
      "source": [
        "import pandas as pd\r\n",
        "import matplotlib.pyplot as plt"
      ],
      "execution_count": null,
      "outputs": []
    },
    {
      "cell_type": "code",
      "metadata": {
        "id": "4G_Tw9FHtCUa"
      },
      "source": [
        "#드라이브에 접근할 수 있도록 아래 코드 입력\r\n",
        "from google.colab import drive\r\n",
        "drive.mount('/content/drive')"
      ],
      "execution_count": null,
      "outputs": []
    },
    {
      "cell_type": "code",
      "metadata": {
        "id": "OvyFXHUMuKt-"
      },
      "source": [
        "DATA = pd.read_csv('/content/drive/MyDrive/kd_ai_machinelearning/pyData/testData.csv')\r\n",
        "DATA.info()"
      ],
      "execution_count": null,
      "outputs": []
    },
    {
      "cell_type": "code",
      "metadata": {
        "id": "7Yfhrv5EcP3y"
      },
      "source": [
        "DATA.head()"
      ],
      "execution_count": null,
      "outputs": []
    },
    {
      "cell_type": "code",
      "metadata": {
        "id": "jWyIFredcUMV"
      },
      "source": [
        "plt.scatter(DATA.inputs,DATA.outputs,s =0.5)\r\n",
        "plt.show()"
      ],
      "execution_count": null,
      "outputs": []
    },
    {
      "cell_type": "code",
      "metadata": {
        "id": "97ZsiqIcdIaC"
      },
      "source": [
        "w=2\r\n",
        "b=3\r\n",
        "step =0.05\r\n",
        "\r\n",
        "for i in range (0,1500):\r\n",
        "    uw,ub = Learning(DATA.inputs,DATA.outputs,w,b,step)\r\n",
        "    w =uw\r\n",
        "    b =ub"
      ],
      "execution_count": null,
      "outputs": []
    },
    {
      "cell_type": "code",
      "metadata": {
        "id": "SjeGdbL7duM3"
      },
      "source": [
        "X = np.linspace(0,1,100)\r\n",
        "Y = (w*X)+b"
      ],
      "execution_count": null,
      "outputs": []
    },
    {
      "cell_type": "code",
      "metadata": {
        "id": "eh5Nxo0Ud1Ke"
      },
      "source": [
        "plt.scatter(DATA.inputs,DATA.outputs,s=0.3)\r\n",
        "plt.plot(X,Y,'-r',linewidth= 1.5)\r\n",
        "plt.show()"
      ],
      "execution_count": null,
      "outputs": []
    },
    {
      "cell_type": "markdown",
      "metadata": {
        "id": "T7aWZvOpoGj8"
      },
      "source": [
        "# Loss visualization"
      ]
    },
    {
      "cell_type": "code",
      "metadata": {
        "id": "M9LnDG9aebSq"
      },
      "source": [
        "def Gradient(x,y,w,b):\r\n",
        "    y_hat = Machine(x,w,b)\r\n",
        "    dw = np.mean((y-y_hat)*(-2*x))\r\n",
        "    db = np.mean((y-y_hat)*-2)\r\n",
        "    Loss = np.mean((y-y_hat)**2)\r\n",
        "\r\n",
        "    return dw,db,Loss"
      ],
      "execution_count": null,
      "outputs": []
    },
    {
      "cell_type": "code",
      "metadata": {
        "id": "5F6DdtyBe4A0"
      },
      "source": [
        "def Learning(x,y,w,b,step):\r\n",
        "    dw,db,Loss = Gradient(x,y,w,b)\r\n",
        "    uw = w - step *dw\r\n",
        "    ub = b - step *db\r\n",
        "    \r\n",
        "    return uw,ub,Loss"
      ],
      "execution_count": null,
      "outputs": []
    },
    {
      "cell_type": "code",
      "metadata": {
        "id": "8x9nbksTfCnc"
      },
      "source": [
        "w=2\r\n",
        "b=3\r\n",
        "step =0.001\r\n",
        "error =[]"
      ],
      "execution_count": null,
      "outputs": []
    },
    {
      "cell_type": "code",
      "metadata": {
        "id": "BRjAFNZ0fFql"
      },
      "source": [
        "for i in range (0,1500):\r\n",
        "    uw,ub,Loss = Learning(DATA.inputs,DATA.outputs,w,b,step)\r\n",
        "    w =uw\r\n",
        "    b =ub\r\n",
        "    error.append(Loss)"
      ],
      "execution_count": null,
      "outputs": []
    },
    {
      "cell_type": "code",
      "metadata": {
        "id": "FuPA0SkTfU7G"
      },
      "source": [
        "error[0:10]"
      ],
      "execution_count": null,
      "outputs": []
    },
    {
      "cell_type": "code",
      "metadata": {
        "id": "OpYjDUtbfYPc"
      },
      "source": [
        "plt.plot(error)\r\n",
        "plt.show()"
      ],
      "execution_count": null,
      "outputs": []
    },
    {
      "cell_type": "code",
      "metadata": {
        "id": "p_UrmdgtfeF9"
      },
      "source": [
        "plt.plot(error[0:50],'.')\r\n",
        "plt.show()"
      ],
      "execution_count": null,
      "outputs": []
    }
  ]
}